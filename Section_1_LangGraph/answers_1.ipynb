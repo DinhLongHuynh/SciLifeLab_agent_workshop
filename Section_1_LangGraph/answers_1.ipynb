{
 "cells": [
  {
   "cell_type": "markdown",
   "id": "41992144",
   "metadata": {},
   "source": [
    "<img src=\"images/scilife_logo.png\" width=\"400\">\n",
    "<img src=\"images/essence_logo.png\" width=\"300\">\n",
    "\n",
    "# SciLifeLab Workshop - Hands-on Section: LangGraph \"Hello World\"\n",
    "\n",
    "\n",
    "\n",
    "Welcome to this hands‑on lab session on building AI agents with **LangGraph**! LangGraph is a low‑level orchestration framework for constructing stateful AI workflows using graphs, where nodes represent units of work and edges define how those units are connected. LangGraph provides several key benefits for agentic AI applications, including durable execution, support for human‑in‑the‑loop workflows, comprehensive memory (both short‑ and long‑term), built‑in debugging, and production‑ready deployment features."
   ]
  },
  {
   "cell_type": "markdown",
   "id": "c48a60e0",
   "metadata": {},
   "source": [
    "## Learning Objectives\n",
    "By the end of this workshop you will:\n",
    "- Understand core concepts of LangGraph (tools, nodes, edges, state, and memory).\n",
    "- Create and integrate your own tools for an AI agent.\n",
    "- Build a ReAct‑style agent from scratch using an LLM and custom tools.\n",
    "- Implement agent memory to maintain conversational context.\n",
    "- Compare custom agents with prebuilt LangGraph agents.\n",
    "- Explore extension tasks such as error handling, streaming, and domain‑specific tools."
   ]
  },
  {
   "cell_type": "markdown",
   "id": "841aa80a",
   "metadata": {},
   "source": [
    "## Workshop Timeline (70 minutes)\n",
    "- **Part 1 (10 min)**: Setup & imports\n",
    "- **Part 2 (20 min)**: Understanding and creating tools\n",
    "- **Part 3 (10 min)**: Defining the state\n",
    "- **Part 4 (20 min)**: Building the agent graph\n",
    "- **Part 5 (10 min)**: Testing the agent\n",
    "- **Part 6 (10 min)**: Adding short‑term memory\n",
    "- **Part 7 (10 min)**: Exploring prebuilt agents\n",
    "- **Part 8 (optional)**: Extension exercises\n"
   ]
  },
  {
   "cell_type": "markdown",
   "id": "1f7ba369",
   "metadata": {},
   "source": [
    "---\n",
    "\n",
    "## Part 1 – Setup\n",
    "\n",
    "In this first step, we'll import the necessary dependencies and load any environment variables. Make sure your API keys (e.g. OpenAI) are stored in a `.env` file in the same directory.\n",
    "\n",
    "**Note: This part will be modified later if we used local model rather than OpenAI or Claude**"
   ]
  },
  {
   "cell_type": "markdown",
   "id": "3e3a6198",
   "metadata": {},
   "source": [
    "### Exercise 1.1 – Import dependencies (participant cell)\n",
    "\n",
    "Import the standard libraries and load environment variables:\n",
    "\n",
    "- Import json\n",
    "- Use `load_dotenv()` from the `dotenv` package to load variables from your `.env` file."
   ]
  },
  {
   "cell_type": "code",
   "execution_count": 1,
   "id": "622c7f6a",
   "metadata": {},
   "outputs": [
    {
     "data": {
      "text/plain": [
       "True"
      ]
     },
     "execution_count": 1,
     "metadata": {},
     "output_type": "execute_result"
    }
   ],
   "source": [
    "# Import any packages you need here\n",
    "import json\n",
    "from dotenv import load_dotenv\n",
    "\n",
    "# Load environment variables from the .env file\n",
    "load_dotenv()"
   ]
  },
  {
   "cell_type": "markdown",
   "id": "c2d8cdae",
   "metadata": {},
   "source": [
    "---\n",
    "\n",
    "## Part 2 – Understanding and Creating Tools\n",
    "\n",
    "In LangGraph, **tools** are Python functions that extend your agent's capabilities beyond text generation. They can call external APIs or perform computations, and are annotated with the `@tool` decorator from LangChain. A tool takes typed inputs and returns a string; the LLM can decide when to call a tool as part of the conversation.\n",
    "\n",
    "When design tools for agent, there are 3 important considerations: \n",
    "- **Input - Output**: It is similar to when design python function, but the input now is handle by generated content from LLM. Output should be parsed to feed meaningful context for agent context \n",
    "\n",
    "- **Description**: the `@tool` decorator require docstrings from python function and will use it as tools description. These description will feed the LLM system prompts, make it to understand when to call which tools. "
   ]
  },
  {
   "cell_type": "markdown",
   "id": "0370dfa1",
   "metadata": {},
   "source": [
    "### Tool Creation API Reference\n",
    "\n",
    "```python\n",
    "from langchain.tools import tool\n",
    "\n",
    "@tool\n",
    "def your_function_name(parameter: type) -> str:\n",
    "    \"\"\"Clear description of what this tool does.\n",
    "\n",
    "    Args:\n",
    "        parameter: Description of the parameter\n",
    "\n",
    "    Returns:\n",
    "        Information to pass back to the agent.\n",
    "    \"\"\"\n",
    "    # implementation here\n",
    "```\n"
   ]
  },
  {
   "cell_type": "markdown",
   "id": "66fac64e",
   "metadata": {},
   "source": [
    "### About the task\n",
    "\n",
    "In this exercise, we will establish 3 tools that are useful for drug discovery domain.\n",
    "\n",
    "**1. Calculator:** a tool to execute mathematical expression\n",
    "\n",
    "**2. LitSearch:** a tool to perform semantic search on all publication available on PubMed\n",
    "\n",
    "**3. GetDrugInfo:** a tool to retrieve drugs information given drug name"
   ]
  },
  {
   "cell_type": "markdown",
   "id": "dbdab0e4",
   "metadata": {},
   "source": [
    "### Exercise 2.1 – Create a Calculator Tool\n",
    "\n",
    "Write a tool that evaluates simple arithmetic expressions (e.g. `'2 + 3 * 4'`). Use Python's built‑in `eval` to perform the calculation, and wrap your function with the `@tool` decorator. Your tool should accept a string input called `expression` and return a string result."
   ]
  },
  {
   "cell_type": "code",
   "execution_count": 2,
   "id": "fe36555d",
   "metadata": {},
   "outputs": [],
   "source": [
    "from langchain.tools import tool\n",
    "\n",
    "@tool\n",
    "def calculator(expression: str) -> str:\n",
    "    \"\"\"Evaluate a simple arithmetic expression (e.g. '2 + 3 * 4').\"\"\"\n",
    "    try:\n",
    "        result = eval(expression)\n",
    "        return str(result)\n",
    "    except Exception as exc:\n",
    "        return f\"Error evaluating expression: {exc}\""
   ]
  },
  {
   "cell_type": "markdown",
   "id": "0e830fbe",
   "metadata": {},
   "source": [
    "### Exercise 2.2 – Create a Literature Search Tool\n",
    "\n",
    "Use the **LitSense** API to perform semantic search of PubMed articles. Your tool should accept a `query` string and an optional `limit` integer. Below is the API reference of LitSense Wrapper. Have a look at it to have implementation idea. \n",
    "\n",
    "### **LitSense API Reference**\n",
    "\n",
    "```python\n",
    "from litsense_wrapper import LitSense_API\n",
    "\n",
    "query = 'COVID-19 biological targers'\n",
    "engine = LitSense_API()\n",
    "results = engine.retrieve(query, limit=5) # return a list of LitSense object with attributes, such as text, pmid, etc.\n",
    "```\n",
    "\n",
    "### **References**\n",
    "LitSense: https://academic.oup.com/nar/article/53/W1/W361/8133630\n",
    "\n",
    "Github: https://github.com/DinhLongHuynh/LitSense_Wrapper"
   ]
  },
  {
   "cell_type": "code",
   "execution_count": 3,
   "id": "61a2613b",
   "metadata": {},
   "outputs": [],
   "source": [
    "from langchain.tools import tool\n",
    "from litsense_wrapper import LitSense_API\n",
    "\n",
    "@tool\n",
    "def lit_search(query: str, limit: int = 5) -> str:\n",
    "    \"\"\"Retrieve information from PubMed using a semantic search via the LitSense API.\\n\\n\n",
    "    Args:\n",
    "        query: The research question or topic to search for in PubMed literature.\n",
    "        limit: Maximum number of results to return (default is 5).\n",
    "    Returns:\n",
    "        A formatted string containing semantically relevant passages from PubMed articles, including PMID and content only.\n",
    "    \"\"\"\n",
    "\n",
    "    try:\n",
    "        engine = LitSense_API()\n",
    "        results = engine.retrieve(query, limit=limit)\n",
    "        if not results:\n",
    "            return f\"No relevant literature found for '{query}'. Please try a different or broader search query.\"\n",
    "        result_str = \"\"\n",
    "        for i, result in enumerate(results):\n",
    "            result_str += (\n",
    "                f\"\\n--- Passage #{i+1} ---\\n\"\n",
    "                f\"PMID: {result.pmid}\\n\"\n",
    "                f\"Content: {result.text}\\n\"\n",
    "            )\n",
    "        return result_str\n",
    "    except Exception as e:\n",
    "        return f\"Error retrieving literature for '{query}': {str(e)}. Please try a different search query.\""
   ]
  },
  {
   "cell_type": "markdown",
   "id": "24bfff2a",
   "metadata": {},
   "source": [
    "### Exercise 2.3 – Create a Drug Information Tool\n",
    "\n",
    "Build a tool that queries the **ChEMBL** database for comprehensive drug information. Use the `chembl_webresource_client` to search for molecules by name or synonym. If you find multiple candidates, select the first one. Return a formatted string containing the molecule's name, mechanism of action, and therapeutic indications."
   ]
  },
  {
   "cell_type": "code",
   "execution_count": 4,
   "id": "2bcac328",
   "metadata": {},
   "outputs": [],
   "source": [
    "from chembl_webresource_client.new_client import new_client\n",
    "\n",
    "@tool\n",
    "def get_drug_info(drug_name: str) -> str:\n",
    "    \"\"\"Return comprehensive drug information using the ChEMBL database (supports synonyms).\"\"\"\n",
    "    try:\n",
    "        # Search for the molecule using synonyms/trade names\n",
    "        search_results = new_client.molecule.search(drug_name)\n",
    "        search_list = list(search_results)\n",
    "        if not search_list:\n",
    "            return f\"No information found for '{drug_name}'\"\n",
    "\n",
    "        candidate = search_list[0]\n",
    "        chembl_id = candidate['molecule_chembl_id']\n",
    "        details = new_client.molecule.get(chembl_id)\n",
    "\n",
    "        # Build base result\n",
    "        pref_name = details.get('pref_name') or candidate.get('pref_name') or drug_name\n",
    "        result = f\"**{pref_name}** (ChEMBL ID: {chembl_id})\\n\"\n",
    "        result += f\"Type: {details.get('molecule_type', 'Not specified')}\\n\"\n",
    "\n",
    "        # Include molecular formula if available\n",
    "        if details.get('molecule_properties', {}).get('molecular_formula'):\n",
    "            result += f\"Molecular Formula: {details['molecule_properties']['molecular_formula']}\\n\"\n",
    "\n",
    "        # Include synonyms/trade names if available\n",
    "        synonyms = details.get('molecule_synonyms', []) or []\n",
    "        if synonyms:\n",
    "            result += \"\\n**Synonyms/Trade names:**\\n\"\n",
    "            unique_synonyms = set()\n",
    "            for syn in synonyms[:15]:\n",
    "                name = syn.get('molecule_synonym') or syn.get('synonyms')\n",
    "                if name and name.lower() != pref_name.lower():\n",
    "                    unique_synonyms.add(name)\n",
    "            for name in sorted(unique_synonyms):\n",
    "                result += f\"- {name}\\n\"\n",
    "\n",
    "        # Mechanism of action\n",
    "        try:\n",
    "            mechanisms = new_client.mechanism.filter(\n",
    "                molecule_chembl_id=chembl_id\n",
    "            ).only(['mechanism_of_action', 'target_chembl_id'])\n",
    "            mechanism_list = list(mechanisms)\n",
    "            if mechanism_list:\n",
    "                result += \"\\n**Mechanism of Action:**\\n\"\n",
    "                unique_mechanisms = set()\n",
    "                for mech in mechanism_list[:5]:\n",
    "                    moa = mech.get('mechanism_of_action')\n",
    "                    if moa:\n",
    "                        unique_mechanisms.add(moa)\n",
    "                for moa in sorted(unique_mechanisms):\n",
    "                    result += f\"- {moa}\\n\"\n",
    "        except Exception as e:\n",
    "            result += f\"\\nMechanism of action data not available (Error: {str(e)[:50]}...)\\n\"\n",
    "\n",
    "        # Indications\n",
    "        try:\n",
    "            indications = new_client.drug_indication.filter(\n",
    "                molecule_chembl_id=chembl_id\n",
    "            ).only(['efo_term', 'mesh_heading', 'max_phase_for_ind'])\n",
    "            indication_list = list(indications)\n",
    "            if indication_list:\n",
    "                result += \"\\n**Indications:**\\n\"\n",
    "                unique_indications = set()\n",
    "                for ind in indication_list[:10]:\n",
    "                    indication_name = ind.get('efo_term') or ind.get('mesh_heading')\n",
    "                    max_phase = ind.get('max_phase_for_ind')\n",
    "                    if indication_name:\n",
    "                        phase_info = f\" (Phase {max_phase})\" if max_phase else \"\"\n",
    "                        unique_indications.add(f\"{indication_name}{phase_info}\")\n",
    "                for indication in sorted(unique_indications):\n",
    "                    result += f\"- {indication}\\n\"\n",
    "            else:\n",
    "                result += \"\\nNo indication data available.\\n\"\n",
    "        except Exception as e:\n",
    "            result += f\"\\nIndication data not available (Error: {str(e)[:50]}...)\\n\"\n",
    "\n",
    "        # Bioactivity summary\n",
    "        try:\n",
    "            activities = new_client.activity.filter(\n",
    "                molecule_chembl_id=chembl_id\n",
    "            ).only(['standard_type', 'standard_value', 'standard_units'])\n",
    "            activity_list = list(activities)\n",
    "            if activity_list:\n",
    "                result += f\"\\n**Bioactivity Data Available:** {len(activity_list)} records\\n\"\n",
    "                activity_types = {}\n",
    "                for act in activity_list[:100]:\n",
    "                    act_type = act.get('standard_type')\n",
    "                    if act_type:\n",
    "                        activity_types[act_type] = activity_types.get(act_type, 0) + 1\n",
    "                if activity_types:\n",
    "                    top_types = sorted(activity_types.items(), key=lambda x: x[1], reverse=True)[:5]\n",
    "                    result += \"Most common activity types: \" + \\\n",
    "                        \", \".join([f\"{t[0]} ({t[1]})\" for t in top_types]) + \"\\n\"\n",
    "        except Exception:\n",
    "            pass  # Bioactivity optional\n",
    "\n",
    "        return result\n",
    "\n",
    "    except Exception as e:\n",
    "        return f\"Error querying ChEMBL database for '{drug_name}': {str(e)}\"\n"
   ]
  },
  {
   "cell_type": "markdown",
   "id": "cc026a68",
   "metadata": {},
   "source": [
    "### Exercise 2.4 – Create a Tools List\n",
    "\n",
    "Collect all of your tool functions into a single list called `TOOLS`. This list will be passed to the LLM so that it knows what tools are available."
   ]
  },
  {
   "cell_type": "code",
   "execution_count": 5,
   "id": "a72970c5",
   "metadata": {},
   "outputs": [],
   "source": [
    "TOOLS = [calculator, lit_search, get_drug_info]"
   ]
  },
  {
   "cell_type": "markdown",
   "id": "a99f429b",
   "metadata": {},
   "source": [
    "---\n",
    "\n",
    "## Part 3 – Understanding LangGraph State\n",
    "\n",
    "A LangGraph **state** defines the data that flows through your agent. For chat agents, the state typically contains a list of messages which grows over the conversation. When creating a state schema, you use `TypedDict` to describe the keys and `Annotated` with reducer functions to specify how values should be updated. The `add_messages` reducer appends new messages rather than overwriting them.\n"
   ]
  },
  {
   "cell_type": "markdown",
   "id": "96bf42e1",
   "metadata": {},
   "source": [
    "### Exercise 3.1 – Define Chat State\n",
    "\n",
    "Define a `ChatState` class (subclassing `TypedDict`) with a single key `messages`. Use the `add_messages` reducer so that new messages are appended to the state."
   ]
  },
  {
   "cell_type": "code",
   "execution_count": 6,
   "id": "6f573a13",
   "metadata": {},
   "outputs": [],
   "source": [
    "from typing_extensions import TypedDict\n",
    "from typing import Annotated, List, Dict\n",
    "from langgraph.graph.message import add_messages\n",
    "\n",
    "class ChatState(TypedDict):\n",
    "    \"\"\"The state schema for our LangGraph. It contains only a list of messages.\n",
    "\n",
    "    Messages are appended via the `add_messages` reducer to preserve the full conversation history. \n",
    "    Each message is represented as a dict with `role` and `content` keys (compatible with the OpenAI API message format).\"\"\"\n",
    "    messages: Annotated[List[Dict], add_messages]"
   ]
  },
  {
   "cell_type": "markdown",
   "id": "54f000fd",
   "metadata": {},
   "source": [
    "---\n",
    "\n",
    "## Part 4 – Building the Agent Graph\n",
    "\n",
    "An agent graph describes how your agent processes messages. You will build a graph using **nodes** (functions) and **edges** (connections between functions). Nodes can be the chatbot itself or tool‑calling logic, and edges determine the execution flow."
   ]
  },
  {
   "cell_type": "markdown",
   "id": "f9c2f68f",
   "metadata": {},
   "source": [
    "### Exercise 4.1 – Initialize Components\n",
    "\n",
    "1. Create a `StateGraph` instance using your `ChatState`.\n",
    "2. Initialise a chat model with `ChatOpenAI(model='gpt-4o', temperature=0)`.\n",
    "3. Bind your tools to the LLM using `bind_tools()`.\n",
    "4. Create a `ToolNode` from your tools list."
   ]
  },
  {
   "cell_type": "code",
   "execution_count": 7,
   "id": "6cdadcfa",
   "metadata": {},
   "outputs": [
    {
     "name": "stderr",
     "output_type": "stream",
     "text": [
      "/Users/dinhlonghuynh/miniconda3/envs/agentic_ai/lib/python3.12/site-packages/tqdm/auto.py:21: TqdmWarning: IProgress not found. Please update jupyter and ipywidgets. See https://ipywidgets.readthedocs.io/en/stable/user_install.html\n",
      "  from .autonotebook import tqdm as notebook_tqdm\n",
      "None of PyTorch, TensorFlow >= 2.0, or Flax have been found. Models won't be available and only tokenizers, configuration and file/data utilities can be used.\n"
     ]
    }
   ],
   "source": [
    "from langgraph.graph import StateGraph, START, END\n",
    "from langgraph.prebuilt import ToolNode\n",
    "from langchain_openai import ChatOpenAI\n",
    "\n",
    "# Create graph builder using ChatState\n",
    "graph_builder = StateGraph(ChatState)\n",
    "\n",
    "# Initialise the chat model. Ensure your OpenAI API key is set in the .env file\n",
    "llm = ChatOpenAI(model='gpt-4o', temperature=0)\n",
    "\n",
    "# Bind the tools to the LLM so that it knows their schemas and how to construct tool calls in JSON\n",
    "llm_with_tools = llm.bind_tools(TOOLS)\n",
    "\n",
    "# Create a ToolNode using our tools list\n",
    "tool_node = ToolNode(tools=TOOLS)"
   ]
  },
  {
   "cell_type": "markdown",
   "id": "ca8fc510",
   "metadata": {},
   "source": [
    "### Exercise 4.2 – Define the Chatbot Node\n",
    "\n",
    "Define a chatbot function that takes the state as input and returns a dictionary with a single key `messages`, containing the LLM response."
   ]
  },
  {
   "cell_type": "code",
   "execution_count": 8,
   "id": "4596d92a",
   "metadata": {},
   "outputs": [],
   "source": [
    "from typing import Dict, List\n",
    "\n",
    "def chatbot(state: ChatState) -> Dict[str, List]:\n",
    "    \"\"\"The main chatbot node. It invokes the LLM with the current messages.\"\"\"\n",
    "    return {'messages': [llm_with_tools.invoke(state['messages'])]}"
   ]
  },
  {
   "cell_type": "markdown",
   "id": "9265e466",
   "metadata": {},
   "source": [
    "### Exercise 4.3 – Define the Routing Function\n",
    "\n",
    "Create a function `route_tools` that decides whether to call tools or terminate. If the most recent AI message contains tool calls (`tool_calls` attribute), route to the `'tools'` node; otherwise return `END`."
   ]
  },
  {
   "cell_type": "code",
   "execution_count": 9,
   "id": "34af01c3",
   "metadata": {},
   "outputs": [],
   "source": [
    "def route_tools(state: ChatState) -> str:\n",
    "    messages = state.get('messages', [])\n",
    "    ai_message = messages[-1] if messages else None\n",
    "    if ai_message and getattr(ai_message, 'tool_calls', []):\n",
    "        return 'tools'\n",
    "    return END"
   ]
  },
  {
   "cell_type": "markdown",
   "id": "d5b54960",
   "metadata": {},
   "source": [
    "### Exercise 4.4 – Build the Complete Graph\n",
    "\n",
    "Assemble the agent graph by adding nodes and edges, then compile the graph into a runnable agent. Use `add_node()` for your chatbot and tool nodes, `add_conditional_edges()` for routing logic, and `add_edge()` to connect nodes."
   ]
  },
  {
   "cell_type": "code",
   "execution_count": 10,
   "id": "4d27ec1f",
   "metadata": {},
   "outputs": [],
   "source": [
    "# Add the chatbot node to the graph\n",
    "graph_builder.add_node('chatbot', chatbot)\n",
    "\n",
    "# Add the tool node to the graph\n",
    "graph_builder.add_node('tools', tool_node)\n",
    "\n",
    "# Add conditional edges from chatbot using the routing function\n",
    "graph_builder.add_conditional_edges('chatbot', route_tools, {'tools': 'tools', END: END})\n",
    "\n",
    "# Add edge from tools back to chatbot\n",
    "graph_builder.add_edge('tools', 'chatbot')\n",
    "\n",
    "# Add edge from START to chatbot\n",
    "graph_builder.add_edge(START, 'chatbot')\n",
    "\n",
    "# Compile the graph into an agent\n",
    "agent = graph_builder.compile()"
   ]
  },
  {
   "cell_type": "markdown",
   "id": "7bc1abcd",
   "metadata": {},
   "source": [
    "### Exercise 4.5 – Visualize Your Agent\n",
    "\n",
    "Use the graph's `draw_mermaid_png()` method to visualize the structure of your agent. This step is optional but helps you understand how nodes and edges connect."
   ]
  },
  {
   "cell_type": "code",
   "execution_count": 11,
   "id": "942675e2",
   "metadata": {},
   "outputs": [
    {
     "data": {
      "image/png": "[encoded data removed]",
      "text/plain": [
       "<IPython.core.display.Image object>"
      ]
     },
     "metadata": {},
     "output_type": "display_data"
    }
   ],
   "source": [
    "from IPython.display import Image, display\n",
    "\n",
    "try:\n",
    "    display(Image(agent.get_graph().draw_mermaid_png()))\n",
    "except Exception:\n",
    "    print('Graph visualization not available in this environment.')"
   ]
  },
  {
   "cell_type": "markdown",
   "id": "cf362da6",
   "metadata": {},
   "source": [
    "---\n",
    "\n",
    "## Part 5 – Testing Your Agent\n",
    "\n",
    "Now that your agent graph is built, it's time to interact with it. Create a simple chat loop that greets the user, processes input until they type 'quit', and streams responses using `agent.stream()`."
   ]
  },
  {
   "cell_type": "markdown",
   "id": "ed83f916",
   "metadata": {},
   "source": [
    "### Exercise 5.1 – Create a Basic Chat Loop\n",
    "\n",
    "Write an interactive loop that:\n",
    "1. Greets the user and explains the agent's capabilities.\n",
    "2. Reads user input in a loop and exits on `'quit'`, `'exit'` or `'q'`.\n",
    "3. Creates the initial `state` with the user's message and streams the agent's responses via `agent.stream()`.\n",
    "4. Uses the `pretty_print()` method on messages to display nicely formatted output.\n",
    "\n",
    "\n",
    "Try out this chat loop with these three prompts: \n",
    "\n",
    "- **Prompt 1:** ” You are an expert drug discovery researcher. Use your available tools to answer the user’s question as accurately as possible. Never fabricate or invent data. What is the mechanism of action of remdesivir and what bioactivity data is available for this compound?”\n",
    "\n",
    "\n",
    "- **Prompt 2:**  \" You are an expert drug discovery researcher. Use your available tools to answer the user’s question as accurately as possible. Never fabricate or invent data. I'm investigating potential combination therapies for COVID-19. Can you help me understand the mechanisms of both hydroxychloroquine and azithromycin, then find recent literature discussing their combined use in COVID-19 treatment?”\n",
    "\n",
    "\n",
    "- **Prompt 3:**  \" You are an expert drug discovery researcher. Use your available tools to answer the user’s question as accurately as possible. Never fabricate or invent data. I'm working on Alzheimer's drug discovery and need to evaluate aducanumab. Please provide detailed drug information including its development status, then search for recent publications about its clinical trial outcomes and any controversies surrounding its approval.\"\n"
   ]
  },
  {
   "cell_type": "code",
   "execution_count": 12,
   "id": "45c2691f",
   "metadata": {},
   "outputs": [
    {
     "name": "stdout",
     "output_type": "stream",
     "text": [
      "Welcome to the LangGraph ReAct demo! Ask me a question.\n",
      "I can perform simple math, look up drug information, and search PubMed via LitSense.\n",
      "====================================================================\n",
      "Goodbye!\n"
     ]
    }
   ],
   "source": [
    "print('Welcome to the LangGraph ReAct demo! Ask me a question.')\n",
    "print('I can perform simple math, look up drug information, and search PubMed via LitSense.')\n",
    "print('====================================================================')\n",
    "\n",
    "while True:\n",
    "    try:\n",
    "        user_input = input('User: ')\n",
    "    except EOFError:\n",
    "        break\n",
    "\n",
    "    if not user_input or user_input.lower() in {'quit', 'exit', 'q'}:\n",
    "        print('Goodbye!')\n",
    "        break\n",
    "\n",
    "    state = {\n",
    "        'messages': [\n",
    "            {'role': 'user', 'content': user_input}\n",
    "        ]\n",
    "    }\n",
    "\n",
    "    for event in agent.stream(state):\n",
    "        for value in event.values():\n",
    "            # The last message in the state is the AI response\n",
    "            msg = value[\"messages\"][-1]\n",
    "            # Use the built-in pretty_print method for better formatting\n",
    "            msg.pretty_print()"
   ]
  },
  {
   "cell_type": "markdown",
   "id": "78dcfa59",
   "metadata": {},
   "source": [
    "---\n",
    "\n",
    "## **Part 6: Adding Short‑term Memory**\n",
    "\n",
    "To demonstrate the lack of memory in agent, please go back to Part 5, then perform these two prompts: \n",
    "\n",
    "- **Prompt 1:** My compound of interest is aspirin. Please remember this information.\n",
    "\n",
    "- **Prompt 2:** What is my interested compound?\n",
    "\n",
    "You will see when invoke **prompt 2**, the agent can not come up with the right answer - aspirin. It is because the GraphState is only maintained from START node to END node. After termination, every context from previous run is gone. Therefore, we need a component call Agent Memory to maintain context across runs.\n",
    "\n",
    "Memory allows your agent to remember previous parts of the conversation. LangGraph uses \"checkpointers\" to maintain state across interactions."
   ]
  },
  {
   "cell_type": "markdown",
   "id": "80071d66",
   "metadata": {},
   "source": [
    "### Exercise 6.1 – Add Memory to Your Agent\n",
    "\n",
    "Rebuild your agent with memory by creating a new `StateGraph` that uses the same `ChatState`. Use an `InMemorySaver` to persist state across turns, and pass a configuration dictionary with a unique `thread_id` when streaming."
   ]
  },
  {
   "cell_type": "code",
   "execution_count": 49,
   "id": "922def4e",
   "metadata": {},
   "outputs": [],
   "source": [
    "from langgraph.checkpoint.memory import InMemorySaver\n",
    "\n",
    "class ChatState(TypedDict):\n",
    "    messages: Annotated[List[Dict], add_messages]\n",
    "\n",
    "graph_builder = StateGraph(ChatState)\n",
    "\n",
    "llm = ChatOpenAI(model='gpt-4o', temperature=0)\n",
    "llm_with_tools = llm.bind_tools(TOOLS)\n",
    "\n",
    "def chatbot(state: ChatState) -> Dict[str, List]:\n",
    "    return {'messages': [llm_with_tools.invoke(state['messages'])]}\n",
    "\n",
    "tool_node = ToolNode(tools=TOOLS)\n",
    "\n",
    "graph_builder.add_node('chatbot', chatbot)\n",
    "graph_builder.add_node('tools', tool_node)\n",
    "graph_builder.add_conditional_edges('chatbot', route_tools, {'tools': 'tools', END: END})\n",
    "graph_builder.add_edge('tools', 'chatbot')\n",
    "graph_builder.add_edge(START, 'chatbot')\n",
    "\n",
    "saver = InMemorySaver()\n",
    "agent = graph_builder.compile(checkpointer=saver)"
   ]
  },
  {
   "cell_type": "markdown",
   "id": "5bc59c2e",
   "metadata": {},
   "source": [
    "### Exercise 6.2 – Create a Memory‑Enabled Chat Loop\n",
    "\n",
    "Write a chat loop similar to Part 5, but supply a `config` dictionary to `agent.stream()` containing a unique `thread_id` and `recursion_limit`. The same thread ID should be used for the entire conversation."
   ]
  },
  {
   "cell_type": "code",
   "execution_count": 50,
   "id": "b60a5193",
   "metadata": {},
   "outputs": [],
   "source": [
    "# Create config for memory\n",
    "config = {\n",
    "    'configurable': {\n",
    "        'thread_id': 'example_conversation',\n",
    "        'recursion_limit': 25\n",
    "    }\n",
    "}"
   ]
  },
  {
   "cell_type": "code",
   "execution_count": null,
   "id": "2af68cec",
   "metadata": {},
   "outputs": [],
   "source": [
    "print('Welcome to the LangGraph ReAct demo with memory! Ask me a question.')\n",
    "print('I can perform simple math, look up drug information, and search PubMed via LitSense.')\n",
    "print('====================================================================')\n",
    "\n",
    "while True:\n",
    "    try:\n",
    "        user_input = input('User: ')\n",
    "    except EOFError:\n",
    "        break\n",
    "\n",
    "    if not user_input or user_input.lower() in {'quit', 'exit', 'q'}:\n",
    "        print('Goodbye!')\n",
    "        break\n",
    "\n",
    "    state = {\n",
    "        'messages': [\n",
    "            {'role': 'user', 'content': user_input}\n",
    "        ]\n",
    "    }\n",
    "\n",
    "    for event in agent.stream(state, config=config):\n",
    "        for value in event.values():\n",
    "            # The last message in the state is the AI response\n",
    "            msg = value[\"messages\"][-1]\n",
    "            # Use the built-in pretty_print method for better formatting\n",
    "            msg.pretty_print()"
   ]
  },
  {
   "cell_type": "markdown",
   "id": "037557d3",
   "metadata": {},
   "source": [
    "---\n",
    "\n",
    "## Part 7 – Prebuilt Agents\n",
    "\n",
    "LangGraph provides prebuilt agents that implement common architectures such as the ReAct pattern. These agents are quick to set up and let you focus on your tools and prompts rather than on graph wiring."
   ]
  },
  {
   "cell_type": "markdown",
   "id": "d31a0d1b",
   "metadata": {},
   "source": [
    "### Exercise 7.1 – Create a Prebuilt Agent\n",
    "\n",
    "Use `create_react_agent` to instantiate a prebuilt ReAct agent. Provide your LLM, tools list, and a custom system prompt that instructs the agent how to behave."
   ]
  },
  {
   "cell_type": "code",
   "execution_count": null,
   "id": "46b056d7",
   "metadata": {},
   "outputs": [],
   "source": [
    "from langgraph.prebuilt import create_react_agent\n",
    "\n",
    "llm = ChatOpenAI(model='gpt-4o', temperature=0)\n",
    "\n",
    "agent = create_react_agent(\n",
    "    model=llm,\n",
    "    tools=TOOLS,\n",
    "    prompt=(\n",
    "        \"You are an expert drug discovery researcher. Use your available tools to answer the user's question as accurately as possible. Never fabricate or invent data.\"\n",
    "    )\n",
    ")"
   ]
  },
  {
   "cell_type": "markdown",
   "id": "71bb6f7a",
   "metadata": {},
   "source": [
    "---\n",
    "\n",
    "## Part 8 – Extension Exercises\n",
    "\n",
    "I need some ideas here\n",
    "\n",
    "- System prompt (prompt template)\n",
    "- Output parser\n",
    "- Long-term memory\n"
   ]
  },
  {
   "cell_type": "markdown",
   "id": "21d23b97",
   "metadata": {},
   "source": [
    "### Exercise 8.1 – Create a system prompt using a prompt template\n",
    "\n",
    "In LangGraph, you can provide a **system** or **instruction** message that sets the behaviour of the assistant before any user input is processed. LangGraph exposes this functionality via its `prompts` module. There you will find a few classes: `PromptTemplate` for formatting a single string, `ChatPromptTemplate` for building multi-message prompts, and `MessagesPlaceholder` for inserting a slot where conversation history will later be filled.\n",
    "\n",
    "In this exercise you will define a `ChatPromptTemplate` that begins with a system instruction. The system message should describe the assistant’s role (for example, instructing it to behave like a drug discovery researcher) and will be prepended to the user’s request before being passed to the agent.\n",
    "\n",
    "#### Prompt Template API References: https://python.langchain.com/docs/concepts/prompt_templates/\n"
   ]
  },
  {
   "cell_type": "code",
   "execution_count": 51,
   "id": "d4244b01",
   "metadata": {},
   "outputs": [],
   "source": [
    "from langchain_core.prompts import ChatPromptTemplate\n",
    "\n",
    "prompt_template = ChatPromptTemplate.from_messages([\n",
    "    (\"system\", \"You are an expert drug discovery researcher. Use your available tools to answer the user’s question as accurately as possible. Never fabricate or invent data.\"),\n",
    "    (\"user\", \"{request}\")\n",
    "])\n",
    "\n",
    "prompt_values = prompt_template.invoke({\"request\": \"What is the mechanism of action of remdesivir and what bioactivity data is available for this compound?\"})"
   ]
  },
  {
   "cell_type": "markdown",
   "id": "dad830ca",
   "metadata": {},
   "source": [
    "`prompt_values` is a dictionary, which can be invoke directly to the agent. Try out by simple invoke the agent with the `prompt_values`"
   ]
  },
  {
   "cell_type": "code",
   "execution_count": null,
   "id": "7dfa2a9d",
   "metadata": {},
   "outputs": [],
   "source": [
    "msgs = agent.invoke(prompt_values, config=config)\n",
    "for msg in msgs['messages']:\n",
    "    msg.pretty_print()"
   ]
  },
  {
   "cell_type": "markdown",
   "id": "09254490",
   "metadata": {},
   "source": [
    "### Exercise 8.2 – Integrate the system prompt with a streaming loop\n",
    "\n",
    "Building on the previous exercise, implement a multi-turn chat loop. Use a `while` loop to repeatedly accept user input, stream the agent’s response, and append both user and assistant messages to the conversation state.\n",
    "\n",
    "To include your system instruction in every turn, apply the `ChatPromptTemplate` from exercise 8.1 when constructing the input for the agent. When using the streaming API you must supply a `state` dictionary that includes a `'messages'` key. The value of this key should be a list of message dictionaries (each with `role` and `content` fields) representing the conversation history. As you loop, update this list to maintain the context across turns.\n"
   ]
  },
  {
   "cell_type": "code",
   "execution_count": null,
   "id": "9030e760",
   "metadata": {},
   "outputs": [],
   "source": [
    "from langchain_core.prompts import ChatPromptTemplate\n",
    "\n",
    "config = {\n",
    "    \"configurable\": {\n",
    "        \"thread_id\": \"example_conversation\",\n",
    "        \"recursion_limit\": 25,\n",
    "    }\n",
    "}\n",
    "\n",
    "\n",
    "prompt_template = ChatPromptTemplate.from_messages([\n",
    "    (\"system\", \"You are an expert drug discovery researcher. Use your available tools to answer the user’s question as accurately as possible. Never fabricate or invent data.\"),\n",
    "    (\"human\", \"{request}\"),\n",
    "])\n",
    "\n",
    "print(\"Welcome to the LangGraph ReAct demo with memory! Ask me a question.\")\n",
    "print(\"I can perform simple math, look up drug information, and search PubMed via LitSense.\")\n",
    "print(\"====================================================================\")\n",
    "\n",
    "while True:\n",
    "    try:\n",
    "        user_input = input(\"User: \")\n",
    "    except EOFError:\n",
    "        break\n",
    "\n",
    "    if not user_input or user_input.lower() in {\"quit\", \"exit\", \"q\"}:\n",
    "        print(\"Goodbye!\")\n",
    "        break\n",
    "\n",
    "    # Build the state as a dict with a messages list\n",
    "    prompt_value = prompt_template.invoke({\"request\": user_input})\n",
    "    state = {\"messages\": prompt_value.messages}\n",
    "\n",
    "    # Stream agent events\n",
    "    for event in agent.stream(state, config=config):\n",
    "        for value in event.values():\n",
    "            msg = value[\"messages\"][-1]\n",
    "            msg.pretty_print()"
   ]
  },
  {
   "cell_type": "markdown",
   "id": "b1ac0995",
   "metadata": {},
   "source": [
    "### Exercise 9.1 - Structure Output Parser\n",
    "\n",
    "Structured output parsers let you control the format of the language model’s responses. Instead of returning free‑form text, the model follows a schema (such as a Pydantic model) so that other components can reliably consume its output.\n",
    "\n",
    "- **Why?** Downstream software often expects data in a specific JSON schema (e.g. key–value pairs).\n",
    "- **How?** Define a Pydantic `BaseModel` to describe the fields you need, then use `with_structured_output(...)` to attach this schema to your LLM.\n",
    "\n",
    "You can read more in the [LangGraph structured output guide](https://langchain-ai.github.io/langgraph/how-tos/react-agent-structured-output/#define-model-tools-and-graph-state).\n",
    "\n",
    "The diagram below shows the high‑level structure of the system we’re about to build. One LLM is responsible for deciding when to call tools, and a second LLM is tasked with formatting the final response according to your schema.\n",
    "\n",
    "<img src=\"images/react_structured_output.png\" width=\"300\">\n"
   ]
  },
  {
   "cell_type": "markdown",
   "id": "4b7131f6",
   "metadata": {},
   "source": [
    "First we'll set up two language models:\n",
    "\n",
    "1. **Tool‑calling LLM**: This model can invoke the tools you defined earlier (calculator, literature search, etc.).\n",
    "2. **Structured output LLM**: This model will use a Pydantic schema to return the final answer as JSON with fields for drug names, justifications and sources.\n",
    "\n",
    "When we later ask a question such as *\"Use LitSearch literatures, give me 2 antiviral drugs that are potential to treat COVID‑19\"*, the agent will search PubMed via LitSense, find candidate antivirals, and then format its answer using this schema.\n"
   ]
  },
  {
   "cell_type": "code",
   "execution_count": 13,
   "id": "56b3210e",
   "metadata": {},
   "outputs": [],
   "source": [
    "# Step 1: create the tool-calling LLM\n",
    "llm = ChatOpenAI(model='gpt-5', temperature=0)\n",
    "llm_with_tools = llm.bind_tools(TOOLS)\n",
    "\n",
    "# Step 2: define a Pydantic schema describing the structured output we want\n",
    "from pydantic import BaseModel, Field\n",
    "\n",
    "class DrugsInfo(BaseModel):\n",
    "    drugs: str = Field(description='a list of drug names')\n",
    "    justifications: str = Field(description='a list of justification for each drugs')\n",
    "    sources: str = Field(description='a list of citation for each drugs')\n",
    "\n",
    "# Step 3: create the structured output LLM\n",
    "llm = ChatOpenAI(model='gpt-5', temperature=0)\n",
    "llm_with_structured_outputs = llm.with_structured_output(DrugsInfo)\n"
   ]
  },
  {
   "cell_type": "code",
   "execution_count": null,
   "id": "24c144fd",
   "metadata": {},
   "outputs": [],
   "source": [
    "from langgraph.graph import StateGraph, END\n",
    "from langchain_core.messages import HumanMessage\n",
    "from typing import Dict, List\n",
    "from langchain_core.messages import HumanMessage, AIMessage\n",
    "\n",
    "# Define the chatbot node: this function invokes the tool‑calling LLM and appends the AI message to state\n",
    "def chatbot(state: ChatState) -> Dict[str, List]:\n",
    "    \"\"\"The main chatbot node. It invokes the LLM with the current messages.\"\"\"\n",
    "    return {'messages': [llm_with_tools.invoke(state['messages'])]}\n",
    "\n",
    "# Define the respond node: this function uses the structured‑output LLM to format the final answer\n",
    "def respond(state: ChatState):\n",
    "    # Extract only the content of each message for the structured LLM\n",
    "    response = llm_with_structured_outputs.invoke(\n",
    "        [HumanMessage(content=state[\"messages\"][i].content) for i in range(len(state[\"messages\"]))]\n",
    "    )\n",
    "    # Wrap the structured JSON as an AIMessage and return it\n",
    "    return {\"messages\": [AIMessage(content=response.model_dump_json())]}\n",
    "\n",
    "# Define a simple routing function to decide whether to keep calling tools or format a final response\n",
    "def route_tools(state: ChatState):\n",
    "    messages = state[\"messages\"]\n",
    "    last_message = messages[-1]\n",
    "    # If the last message does not contain a tool call, we are ready to format a response\n",
    "    if not last_message.tool_calls:\n",
    "        return \"respond\"\n",
    "    return \"continue\"\n"
   ]
  },
  {
   "cell_type": "code",
   "execution_count": null,
   "id": "17d493a7",
   "metadata": {},
   "outputs": [],
   "source": [
    "# Build the state graph\n",
    "workflow = StateGraph(ChatState)\n",
    "\n",
    "# Add the nodes: chatbot (for reasoning/tool calls), respond (for final formatting), and the existing tool node\n",
    "workflow.add_node(\"chatbot\", chatbot)\n",
    "workflow.add_node(\"respond\", respond)\n",
    "workflow.add_node(\"tools\", tool_node)\n",
    "\n",
    "# Set the entry point: we start by invoking the chatbot node\n",
    "workflow.add_edge(START, \"chatbot\")\n",
    "\n",
    "# Add conditional edges: route to either tools or respond depending on should_continue\n",
    "workflow.add_conditional_edges(\n",
    "    \"chatbot\",\n",
    "    route_tools,\n",
    "    {\n",
    "        \"continue\": \"tools\",\n",
    "        \"respond\": \"respond\",\n",
    "    },\n",
    ")\n",
    "\n",
    "# After calling tools, loop back to the chatbot; after responding, end the workflow\n",
    "workflow.add_edge(\"tools\", \"chatbot\")\n",
    "workflow.add_edge(\"respond\", END)\n",
    "\n",
    "# Compile the workflow into an executable agent\n",
    "agent = workflow.compile()"
   ]
  },
  {
   "cell_type": "code",
   "execution_count": 15,
   "id": "67b827f7",
   "metadata": {},
   "outputs": [
    {
     "data": {
      "image/png": "[encoded data removed]",
      "text/plain": [
       "<IPython.core.display.Image object>"
      ]
     },
     "metadata": {},
     "output_type": "display_data"
    }
   ],
   "source": [
    "from IPython.display import Image, display\n",
    "\n",
    "try:\n",
    "    display(Image(agent.get_graph().draw_mermaid_png()))\n",
    "except Exception:\n",
    "    print('Graph visualization not available in this environment.')"
   ]
  },
  {
   "cell_type": "code",
   "execution_count": 16,
   "id": "ce0605e4",
   "metadata": {},
   "outputs": [
    {
     "name": "stdout",
     "output_type": "stream",
     "text": [
      "==================================\u001b[1m Ai Message \u001b[0m==================================\n",
      "\n",
      "{\"drugs\":\"- Remdesivir\\n- Nirmatrelvir/ritonavir (Paxlovid)\",\"justifications\":\"- Remdesivir: In hospitalized COVID-19 patients, the ACTT-1 randomized trial showed shorter time to recovery vs placebo (median 10 vs 15 days); mortality benefit was not statistically significant, and the WHO Solidarity trial found no mortality benefit, with benefits most evident in patients on low-flow oxygen.\\n- Nirmatrelvir/ritonavir (Paxlovid): In high-risk, nonhospitalized adults treated within 5 days of symptom onset, the EPIC-HR randomized trial reduced the 28-day risk of hospitalization or death by about 88% vs placebo (0 deaths vs 12 in placebo). Randomized data show rebound can occur with or without treatment and was not linked to worse outcomes.\",\"sources\":\"- Remdesivir: PMIDs 33493302; 34220503; 36465748\\n- Nirmatrelvir/ritonavir (Paxlovid): PMIDs 37782496; 35636904; 38127674\"}\n"
     ]
    }
   ],
   "source": [
    "# Ask the agent a question and pretty‑print the structured response\n",
    "answer = agent.invoke({'messages': 'Use LitSearch literatures, give me 2 antiviral drugs that are potential to treat COVID-19'})\n",
    "answer['messages'][-1].pretty_print()"
   ]
  },
  {
   "cell_type": "markdown",
   "id": "17dd59a7",
   "metadata": {},
   "source": [
    "---\n",
    "\n",
    "## Key Takeaways\n",
    "\n",
    "- **Nodes** are functions that operate on state.\n",
    "- **Edges** define the flow between nodes.\n",
    "- **State** carries data through the agent. Use reducer functions such as `add_messages` to control how state is updated【78264805686364†L107-L148】.\n",
    "- **Tools** extend agent capabilities and are annotated with `@tool`.\n",
    "- **Memory** allows agents to maintain context across invocations.\n",
    "- **Prebuilt agents** provide quick solutions for common patterns but offer less control than a custom graph."
   ]
  },
  {
   "cell_type": "markdown",
   "id": "aa566d4f",
   "metadata": {},
   "source": [
    "---\n",
    "\n",
    "## Resources\n",
    "\n",
    "- **LangGraph Documentation** – https://langchain-ai.github.io/langgraph/\n",
    "- **LangGraph Quickstart and Tutorials** – Build a basic chatbot (https://langchain-ai.github.io/langgraph/tutorials/get-started/1-build-basic-chatbot/)\n",
    "- **LangChain Tools** – https://python.langchain.com/docs/integrations/tools/\n",
    "- **ChEMBL Web Services** – https://chembl.gitbook.io/chembl-interface-documentation/web-services\n",
    "- **OpenAI API** – https://platform.openai.com/docs/\n",
    "\n",
    "These references can help you explore LangGraph and related libraries beyond the scope of this workshop."
   ]
  },
  {
   "cell_type": "markdown",
   "id": "5ac5952c",
   "metadata": {},
   "source": [
    "---\n",
    "\n",
    "**🎉 Congratulations! You've built your first AI agent with LangGraph!**\n",
    "\n",
    "Feel free to modify and extend your agent. You can experiment with new tools, different LLMs, and additional nodes to create even more capable and personalised agents."
   ]
  }
 ],
 "metadata": {
  "kernelspec": {
   "display_name": "agentic_ai",
   "language": "python",
   "name": "python3"
  },
  "language_info": {
   "codemirror_mode": {
    "name": "ipython",
    "version": 3
   },
   "file_extension": ".py",
   "mimetype": "text/x-python",
   "name": "python",
   "nbconvert_exporter": "python",
   "pygments_lexer": "ipython3",
   "version": "3.12.2"
  }
 },
 "nbformat": 4,
 "nbformat_minor": 5
}
